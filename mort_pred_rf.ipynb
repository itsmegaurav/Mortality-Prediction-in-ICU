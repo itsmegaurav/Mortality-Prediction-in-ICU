{
 "cells": [
  {
   "cell_type": "code",
   "execution_count": 2,
   "metadata": {
    "collapsed": true
   },
   "outputs": [],
   "source": [
    "import seaborn as sns\n",
    "import pandas as pd\n",
    "import matplotlib.pyplot as plt"
   ]
  },
  {
   "cell_type": "code",
   "execution_count": 3,
   "metadata": {
    "collapsed": true
   },
   "outputs": [],
   "source": [
    "df=pd.read_csv('/home/gaurav/Documents/Mor_pred/ayush/train.csv')\n",
    "labels=pd.read_csv('/home/gaurav/Documents/Mor_pred/ayush/labels_train.csv')"
   ]
  },
  {
   "cell_type": "code",
   "execution_count": 4,
   "metadata": {},
   "outputs": [
    {
     "data": {
      "text/html": [
       "<div>\n",
       "<style>\n",
       "    .dataframe thead tr:only-child th {\n",
       "        text-align: right;\n",
       "    }\n",
       "\n",
       "    .dataframe thead th {\n",
       "        text-align: left;\n",
       "    }\n",
       "\n",
       "    .dataframe tbody tr th {\n",
       "        vertical-align: top;\n",
       "    }\n",
       "</style>\n",
       "<table border=\"1\" class=\"dataframe\">\n",
       "  <thead>\n",
       "    <tr style=\"text-align: right;\">\n",
       "      <th></th>\n",
       "      <th>ALP</th>\n",
       "      <th>ALT</th>\n",
       "      <th>AST</th>\n",
       "      <th>Age</th>\n",
       "      <th>Albumin</th>\n",
       "      <th>BUN</th>\n",
       "      <th>Bilirubin</th>\n",
       "      <th>Cholesterol</th>\n",
       "      <th>Creatinine</th>\n",
       "      <th>DiasABP</th>\n",
       "      <th>...</th>\n",
       "      <th>RespRate</th>\n",
       "      <th>SaO2</th>\n",
       "      <th>SysABP</th>\n",
       "      <th>Temp</th>\n",
       "      <th>TroponinI</th>\n",
       "      <th>TroponinT</th>\n",
       "      <th>Urine</th>\n",
       "      <th>WBC</th>\n",
       "      <th>Weight</th>\n",
       "      <th>pH</th>\n",
       "    </tr>\n",
       "  </thead>\n",
       "  <tbody>\n",
       "    <tr>\n",
       "      <th>0</th>\n",
       "      <td>77.0</td>\n",
       "      <td>31.0</td>\n",
       "      <td>46.0</td>\n",
       "      <td>54</td>\n",
       "      <td>2.973333</td>\n",
       "      <td>10.500000</td>\n",
       "      <td>0.7</td>\n",
       "      <td>154.0</td>\n",
       "      <td>0.750000</td>\n",
       "      <td>58.795833</td>\n",
       "      <td>...</td>\n",
       "      <td>17.428571</td>\n",
       "      <td>97.250000</td>\n",
       "      <td>116.891892</td>\n",
       "      <td>37.357143</td>\n",
       "      <td>2.1</td>\n",
       "      <td>0.14</td>\n",
       "      <td>171.052632</td>\n",
       "      <td>10.300000</td>\n",
       "      <td>80.060976</td>\n",
       "      <td>7.387273</td>\n",
       "    </tr>\n",
       "    <tr>\n",
       "      <th>1</th>\n",
       "      <td>77.0</td>\n",
       "      <td>31.0</td>\n",
       "      <td>46.0</td>\n",
       "      <td>76</td>\n",
       "      <td>2.973333</td>\n",
       "      <td>18.333333</td>\n",
       "      <td>0.7</td>\n",
       "      <td>154.0</td>\n",
       "      <td>1.100000</td>\n",
       "      <td>58.897059</td>\n",
       "      <td>...</td>\n",
       "      <td>19.000000</td>\n",
       "      <td>96.833333</td>\n",
       "      <td>113.411765</td>\n",
       "      <td>36.939130</td>\n",
       "      <td>2.1</td>\n",
       "      <td>0.14</td>\n",
       "      <td>151.560976</td>\n",
       "      <td>11.266667</td>\n",
       "      <td>80.670588</td>\n",
       "      <td>7.395000</td>\n",
       "    </tr>\n",
       "    <tr>\n",
       "      <th>2</th>\n",
       "      <td>116.0</td>\n",
       "      <td>83.0</td>\n",
       "      <td>199.5</td>\n",
       "      <td>44</td>\n",
       "      <td>2.500000</td>\n",
       "      <td>4.666667</td>\n",
       "      <td>2.9</td>\n",
       "      <td>154.0</td>\n",
       "      <td>0.333333</td>\n",
       "      <td>67.125000</td>\n",
       "      <td>...</td>\n",
       "      <td>19.000000</td>\n",
       "      <td>95.000000</td>\n",
       "      <td>125.687500</td>\n",
       "      <td>37.800000</td>\n",
       "      <td>2.1</td>\n",
       "      <td>0.14</td>\n",
       "      <td>124.951220</td>\n",
       "      <td>4.700000</td>\n",
       "      <td>56.700000</td>\n",
       "      <td>7.495000</td>\n",
       "    </tr>\n",
       "    <tr>\n",
       "      <th>3</th>\n",
       "      <td>105.0</td>\n",
       "      <td>12.0</td>\n",
       "      <td>15.0</td>\n",
       "      <td>68</td>\n",
       "      <td>4.400000</td>\n",
       "      <td>17.666667</td>\n",
       "      <td>0.2</td>\n",
       "      <td>154.0</td>\n",
       "      <td>0.766667</td>\n",
       "      <td>58.795833</td>\n",
       "      <td>...</td>\n",
       "      <td>15.457627</td>\n",
       "      <td>97.250000</td>\n",
       "      <td>116.891892</td>\n",
       "      <td>36.223077</td>\n",
       "      <td>2.1</td>\n",
       "      <td>0.14</td>\n",
       "      <td>545.833333</td>\n",
       "      <td>9.400000</td>\n",
       "      <td>84.600000</td>\n",
       "      <td>7.387273</td>\n",
       "    </tr>\n",
       "    <tr>\n",
       "      <th>4</th>\n",
       "      <td>77.0</td>\n",
       "      <td>31.0</td>\n",
       "      <td>46.0</td>\n",
       "      <td>88</td>\n",
       "      <td>3.300000</td>\n",
       "      <td>35.000000</td>\n",
       "      <td>0.7</td>\n",
       "      <td>154.0</td>\n",
       "      <td>1.000000</td>\n",
       "      <td>58.795833</td>\n",
       "      <td>...</td>\n",
       "      <td>19.166667</td>\n",
       "      <td>97.250000</td>\n",
       "      <td>116.891892</td>\n",
       "      <td>36.880000</td>\n",
       "      <td>2.1</td>\n",
       "      <td>0.14</td>\n",
       "      <td>62.131579</td>\n",
       "      <td>4.300000</td>\n",
       "      <td>80.060976</td>\n",
       "      <td>7.387273</td>\n",
       "    </tr>\n",
       "  </tbody>\n",
       "</table>\n",
       "<p>5 rows × 42 columns</p>\n",
       "</div>"
      ],
      "text/plain": [
       "     ALP   ALT    AST  Age   Albumin        BUN  Bilirubin  Cholesterol  \\\n",
       "0   77.0  31.0   46.0   54  2.973333  10.500000        0.7        154.0   \n",
       "1   77.0  31.0   46.0   76  2.973333  18.333333        0.7        154.0   \n",
       "2  116.0  83.0  199.5   44  2.500000   4.666667        2.9        154.0   \n",
       "3  105.0  12.0   15.0   68  4.400000  17.666667        0.2        154.0   \n",
       "4   77.0  31.0   46.0   88  3.300000  35.000000        0.7        154.0   \n",
       "\n",
       "   Creatinine    DiasABP    ...      RespRate       SaO2      SysABP  \\\n",
       "0    0.750000  58.795833    ...     17.428571  97.250000  116.891892   \n",
       "1    1.100000  58.897059    ...     19.000000  96.833333  113.411765   \n",
       "2    0.333333  67.125000    ...     19.000000  95.000000  125.687500   \n",
       "3    0.766667  58.795833    ...     15.457627  97.250000  116.891892   \n",
       "4    1.000000  58.795833    ...     19.166667  97.250000  116.891892   \n",
       "\n",
       "        Temp  TroponinI  TroponinT       Urine        WBC     Weight        pH  \n",
       "0  37.357143        2.1       0.14  171.052632  10.300000  80.060976  7.387273  \n",
       "1  36.939130        2.1       0.14  151.560976  11.266667  80.670588  7.395000  \n",
       "2  37.800000        2.1       0.14  124.951220   4.700000  56.700000  7.495000  \n",
       "3  36.223077        2.1       0.14  545.833333   9.400000  84.600000  7.387273  \n",
       "4  36.880000        2.1       0.14   62.131579   4.300000  80.060976  7.387273  \n",
       "\n",
       "[5 rows x 42 columns]"
      ]
     },
     "execution_count": 4,
     "metadata": {},
     "output_type": "execute_result"
    }
   ],
   "source": [
    "df.head()\n"
   ]
  },
  {
   "cell_type": "code",
   "execution_count": 5,
   "metadata": {},
   "outputs": [
    {
     "data": {
      "text/html": [
       "<div>\n",
       "<style>\n",
       "    .dataframe thead tr:only-child th {\n",
       "        text-align: right;\n",
       "    }\n",
       "\n",
       "    .dataframe thead th {\n",
       "        text-align: left;\n",
       "    }\n",
       "\n",
       "    .dataframe tbody tr th {\n",
       "        vertical-align: top;\n",
       "    }\n",
       "</style>\n",
       "<table border=\"1\" class=\"dataframe\">\n",
       "  <thead>\n",
       "    <tr style=\"text-align: right;\">\n",
       "      <th></th>\n",
       "      <th>In-hospital_death</th>\n",
       "    </tr>\n",
       "  </thead>\n",
       "  <tbody>\n",
       "    <tr>\n",
       "      <th>0</th>\n",
       "      <td>0</td>\n",
       "    </tr>\n",
       "    <tr>\n",
       "      <th>1</th>\n",
       "      <td>0</td>\n",
       "    </tr>\n",
       "    <tr>\n",
       "      <th>2</th>\n",
       "      <td>0</td>\n",
       "    </tr>\n",
       "    <tr>\n",
       "      <th>3</th>\n",
       "      <td>0</td>\n",
       "    </tr>\n",
       "    <tr>\n",
       "      <th>4</th>\n",
       "      <td>0</td>\n",
       "    </tr>\n",
       "  </tbody>\n",
       "</table>\n",
       "</div>"
      ],
      "text/plain": [
       "   In-hospital_death\n",
       "0                  0\n",
       "1                  0\n",
       "2                  0\n",
       "3                  0\n",
       "4                  0"
      ]
     },
     "execution_count": 5,
     "metadata": {},
     "output_type": "execute_result"
    }
   ],
   "source": [
    "labels.head()\n"
   ]
  },
  {
   "cell_type": "code",
   "execution_count": 6,
   "metadata": {
    "collapsed": true
   },
   "outputs": [],
   "source": [
    "from sklearn.preprocessing import MinMaxScaler\n",
    "#normalization\n",
    "scaler = MinMaxScaler(feature_range=(0, 1))\n",
    "df = scaler.fit_transform(df)\n"
   ]
  },
  {
   "cell_type": "code",
   "execution_count": 7,
   "metadata": {},
   "outputs": [
    {
     "name": "stderr",
     "output_type": "stream",
     "text": [
      "/home/gaurav/anaconda3/lib/python3.6/site-packages/sklearn/model_selection/_split.py:2010: FutureWarning: From version 0.21, test_size will always complement train_size unless both are specified.\n",
      "  FutureWarning)\n"
     ]
    }
   ],
   "source": [
    "'''corrmat=df.corr()\n",
    "f, ax = plt.subplots(figsize=(12, 12))\n",
    "sns.heatmap(corrmat,vmax=.6,square=True)\n",
    "plt.show()'''\n",
    "\n",
    "from sklearn.model_selection import train_test_split\n",
    "\n",
    "train_data,test_data,train_labels,test_labels=train_test_split(df,labels,random_state=3,train_size=0.8)"
   ]
  },
  {
   "cell_type": "code",
   "execution_count": 9,
   "metadata": {},
   "outputs": [
    {
     "data": {
      "text/plain": [
       "array([  4.79342616e-02,   3.20006877e-03,   2.74339671e-03,\n",
       "         8.53333333e-01,   4.52380952e-01,   8.00790905e-02,\n",
       "         1.29682997e-02,   4.39393939e-01,   4.30579965e-02,\n",
       "         5.51062500e-01,   1.47677959e-06,   3.84920635e-01,\n",
       "         0.00000000e+00,   3.28685259e-01,   1.79856115e-01,\n",
       "         4.34945632e-01,   7.33174144e-01,   3.91627907e-01,\n",
       "         2.24505527e-05,   8.51851852e-02,   4.72813239e-03,\n",
       "         3.14425390e-01,   0.00000000e+00,   1.98275862e-01,\n",
       "         5.75813953e-01,   6.01327901e-01,   5.76495726e-01,\n",
       "         5.75109994e-01,   1.50234742e-01,   1.16768147e-03,\n",
       "         3.60194739e-01,   8.29978291e-01,   3.00458100e-01,\n",
       "         9.54751131e-01,   7.10414087e-01,   8.84522525e-01,\n",
       "         3.88548057e-02,   4.16146484e-04,   2.81833415e-02,\n",
       "         1.21779290e-01,   2.72175379e-01,   9.23192309e-03])"
      ]
     },
     "execution_count": 9,
     "metadata": {},
     "output_type": "execute_result"
    }
   ],
   "source": [
    "test_data[1]"
   ]
  },
  {
   "cell_type": "code",
   "execution_count": null,
   "metadata": {},
   "outputs": [],
   "source": [
    "from sklearn.tree import DecisionTreeClassifier\n",
    "from sklearn.ensemble import AdaBoostClassifier\n",
    "from imblearn.over_sampling import SMOTE\n",
    "\n",
    "\n",
    "train_data_res,train_labels_res=SMOTE(random_state=9).fit_sample(train_data,train_labels) #balancing the data\n",
    "train_data_res=pd.DataFrame(train_data_res)\n",
    "train_labels_res=pd.DataFrame(train_labels_res)\n",
    "\n",
    "dt = DecisionTreeClassifier() \n",
    "clf = AdaBoostClassifier(n_estimators=100, base_estimator=dt,learning_rate=0.5)\n",
    "\n",
    "clf.fit(train_data_res,train_labels_res)\n",
    "train_data_res.head()"
   ]
  },
  {
   "cell_type": "code",
   "execution_count": null,
   "metadata": {},
   "outputs": [],
   "source": [
    "train_labels_res[0].value_counts()"
   ]
  },
  {
   "cell_type": "code",
   "execution_count": null,
   "metadata": {
    "collapsed": true
   },
   "outputs": [],
   "source": [
    "predictions=clf.predict(test_data)"
   ]
  },
  {
   "cell_type": "code",
   "execution_count": null,
   "metadata": {},
   "outputs": [],
   "source": [
    "print(test_labels.iloc[:])"
   ]
  },
  {
   "cell_type": "code",
   "execution_count": null,
   "metadata": {},
   "outputs": [],
   "source": [
    "predictions\n"
   ]
  },
  {
   "cell_type": "code",
   "execution_count": null,
   "metadata": {},
   "outputs": [],
   "source": [
    "from sklearn.metrics import f1_score,accuracy_score\n",
    "print(f1_score(test_labels,predictions),accuracy_score(test_labels,predictions))"
   ]
  },
  {
   "cell_type": "code",
   "execution_count": null,
   "metadata": {
    "collapsed": true
   },
   "outputs": [],
   "source": []
  }
 ],
 "metadata": {
  "kernelspec": {
   "display_name": "Python 3",
   "language": "python",
   "name": "python3"
  },
  "language_info": {
   "codemirror_mode": {
    "name": "ipython",
    "version": 3
   },
   "file_extension": ".py",
   "mimetype": "text/x-python",
   "name": "python",
   "nbconvert_exporter": "python",
   "pygments_lexer": "ipython3",
   "version": "3.6.1"
  }
 },
 "nbformat": 4,
 "nbformat_minor": 2
}
